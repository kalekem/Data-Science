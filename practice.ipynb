{
 "cells": [
  {
   "cell_type": "code",
   "execution_count": 1,
   "metadata": {},
   "outputs": [
    {
     "name": "stdout",
     "output_type": "stream",
     "text": [
      "1 squared is  1\n",
      "2 squared is  4\n",
      "3 squared is  9\n",
      "4 squared is  16\n",
      "5 squared is  25\n",
      "6 squared is  36\n",
      "7 squared is  49\n",
      "8 squared is  64\n",
      "9 squared is  81\n"
     ]
    }
   ],
   "source": [
    "%timeit\n",
    "def square(x):\n",
    "    \"\"\"square a number\"\"\"\n",
    "    return x**2\n",
    "\n",
    "for N in range(1,10):\n",
    "    print(N, \"squared is \", square(N));"
   ]
  },
  {
   "cell_type": "code",
   "execution_count": null,
   "metadata": {},
   "outputs": [],
   "source": []
  },
  {
   "cell_type": "code",
   "execution_count": 4,
   "metadata": {},
   "outputs": [
    {
     "name": "stdout",
     "output_type": "stream",
     "text": [
      "3.71 ms ± 221 µs per loop (mean ± std. dev. of 7 runs, 100 loops each)\n"
     ]
    }
   ],
   "source": [
    "%timeit L=[n**2 for n in range(10000)]"
   ]
  },
  {
   "cell_type": "code",
   "execution_count": 5,
   "metadata": {},
   "outputs": [],
   "source": [
    "%timeit?"
   ]
  },
  {
   "cell_type": "code",
   "execution_count": 6,
   "metadata": {},
   "outputs": [],
   "source": [
    "%magic?"
   ]
  },
  {
   "cell_type": "code",
   "execution_count": 7,
   "metadata": {},
   "outputs": [
    {
     "name": "stdout",
     "output_type": "stream",
     "text": [
      "['', 'import math\\n\\ndef square(x):\\n    \"\"\"square a number\"\"\"\\n    return x**2\\n\\nfor N in range(1,10):\\n    print(N, \"squared is \", square(N))', 'get_ipython().run_line_magic(\\'timeit\\', \\'\\')\\ndef square(x):\\n    \"\"\"square a number\"\"\"\\n    return x**2\\n\\nfor N in range(1,10):\\n    print(N, \"squared is \", square(N))', \"get_ipython().run_line_magic('timeit', 'L=[n**2 for n in range(100)]')\", \"get_ipython().run_line_magic('timeit', 'L=[n**2 for n in range(10000)]')\", \"get_ipython().run_line_magic('pinfo', '%timeit')\", \"get_ipython().run_line_magic('pinfo', '%magic')\", 'print(In)']\n"
     ]
    }
   ],
   "source": [
    "print(In);"
   ]
  },
  {
   "cell_type": "code",
   "execution_count": 8,
   "metadata": {},
   "outputs": [
    {
     "name": "stdout",
     "output_type": "stream",
     "text": [
      "{}\n"
     ]
    }
   ],
   "source": [
    "print(Out);"
   ]
  },
  {
   "cell_type": "code",
   "execution_count": null,
   "metadata": {},
   "outputs": [],
   "source": []
  },
  {
   "cell_type": "code",
   "execution_count": 9,
   "metadata": {},
   "outputs": [
    {
     "data": {
      "text/plain": [
       "{}"
      ]
     },
     "execution_count": 9,
     "metadata": {},
     "output_type": "execute_result"
    }
   ],
   "source": [
    "Out"
   ]
  },
  {
   "cell_type": "code",
   "execution_count": 10,
   "metadata": {},
   "outputs": [
    {
     "data": {
      "text/plain": [
       "1.8185948536513634"
      ]
     },
     "execution_count": 10,
     "metadata": {},
     "output_type": "execute_result"
    }
   ],
   "source": [
    "math.sin(2) + math.sin(2)"
   ]
  },
  {
   "cell_type": "code",
   "execution_count": 11,
   "metadata": {},
   "outputs": [],
   "source": [
    "math.sin(2) + math.sin(2);"
   ]
  },
  {
   "cell_type": "code",
   "execution_count": 12,
   "metadata": {},
   "outputs": [],
   "source": [
    "L=math.sin(2) + math.sin(2);"
   ]
  },
  {
   "cell_type": "code",
   "execution_count": 13,
   "metadata": {},
   "outputs": [
    {
     "data": {
      "text/plain": [
       "1.8185948536513634"
      ]
     },
     "execution_count": 13,
     "metadata": {},
     "output_type": "execute_result"
    }
   ],
   "source": [
    "L"
   ]
  },
  {
   "cell_type": "code",
   "execution_count": 14,
   "metadata": {},
   "outputs": [
    {
     "name": "stdout",
     "output_type": "stream",
     "text": [
      "import math\n",
      "\n",
      "def square(x):\n",
      "    \"\"\"square a number\"\"\"\n",
      "    return x**2\n",
      "\n",
      "for N in range(1,10):\n",
      "    print(N, \"squared is \", square(N))\n",
      "%timeit\n",
      "def square(x):\n",
      "    \"\"\"square a number\"\"\"\n",
      "    return x**2\n",
      "\n",
      "for N in range(1,10):\n",
      "    print(N, \"squared is \", square(N))\n",
      "%timeit L=[n**2 for n in range(100)]\n",
      "%timeit L=[n**2 for n in range(10000)]\n",
      "%timeit?\n",
      "%magic?\n",
      "print(In)\n",
      "print(Out)\n",
      "Out\n",
      "math.sin(2) + math.sin(2)\n",
      "math.sin(2) + math.sin(2);\n",
      "L=math.sin(2) + math.sin(2);\n",
      "L\n",
      "%history\n"
     ]
    }
   ],
   "source": [
    "%history;"
   ]
  },
  {
   "cell_type": "code",
   "execution_count": 15,
   "metadata": {},
   "outputs": [
    {
     "name": "stdout",
     "output_type": "stream",
     "text": [
      " Volume in drive C is OSDisk\n",
      " Volume Serial Number is 18D0-9E47\n",
      "\n",
      " Directory of C:\\Users\\i862873\\Dev\n",
      "\n",
      "09/18/2018  11:20 PM    <DIR>          .\n",
      "09/18/2018  11:20 PM    <DIR>          ..\n",
      "09/18/2018  10:48 PM    <DIR>          .ipynb_checkpoints\n",
      "09/18/2018  11:20 PM             5,371 practice.ipynb\n",
      "               1 File(s)          5,371 bytes\n",
      "               3 Dir(s)  317,063,757,824 bytes free\n"
     ]
    }
   ],
   "source": [
    "    ls;"
   ]
  },
  {
   "cell_type": "code",
   "execution_count": 16,
   "metadata": {},
   "outputs": [
    {
     "data": {
      "text/plain": [
       "'C:\\\\Users\\\\i862873\\\\Dev'"
      ]
     },
     "execution_count": 16,
     "metadata": {},
     "output_type": "execute_result"
    }
   ],
   "source": [
    "pwd;"
   ]
  },
  {
   "cell_type": "code",
   "execution_count": 17,
   "metadata": {},
   "outputs": [
    {
     "name": "stdout",
     "output_type": "stream",
     "text": [
      "C:\\Users\\i862873\n"
     ]
    }
   ],
   "source": [
    "cd .."
   ]
  },
  {
   "cell_type": "code",
   "execution_count": 18,
   "metadata": {},
   "outputs": [
    {
     "name": "stdout",
     "output_type": "stream",
     "text": [
      "C:\\Users\\i862873\\Dev\n"
     ]
    }
   ],
   "source": [
    "cd Dev"
   ]
  },
  {
   "cell_type": "code",
   "execution_count": 19,
   "metadata": {},
   "outputs": [
    {
     "name": "stdout",
     "output_type": "stream",
     "text": [
      " Volume in drive C is OSDisk\n",
      " Volume Serial Number is 18D0-9E47\n",
      "\n",
      " Directory of C:\\Users\\i862873\\Dev\n",
      "\n",
      "09/18/2018  11:20 PM    <DIR>          .\n",
      "09/18/2018  11:20 PM    <DIR>          ..\n",
      "09/18/2018  10:48 PM    <DIR>          .ipynb_checkpoints\n",
      "09/18/2018  11:20 PM             5,371 practice.ipynb\n",
      "               1 File(s)          5,371 bytes\n",
      "               3 Dir(s)  317,062,709,248 bytes free\n"
     ]
    }
   ],
   "source": [
    "ls;"
   ]
  },
  {
   "cell_type": "code",
   "execution_count": 20,
   "metadata": {},
   "outputs": [],
   "source": [
    "mkdir data"
   ]
  },
  {
   "cell_type": "code",
   "execution_count": 21,
   "metadata": {},
   "outputs": [
    {
     "data": {
      "text/plain": [
       "'C:\\\\Users\\\\i862873\\\\Dev'"
      ]
     },
     "execution_count": 21,
     "metadata": {},
     "output_type": "execute_result"
    }
   ],
   "source": [
    "pwd"
   ]
  },
  {
   "cell_type": "code",
   "execution_count": 22,
   "metadata": {},
   "outputs": [
    {
     "name": "stdout",
     "output_type": "stream",
     "text": [
      " Volume in drive C is OSDisk\n",
      " Volume Serial Number is 18D0-9E47\n",
      "\n",
      " Directory of C:\\Users\\i862873\\Dev\n",
      "\n",
      "09/18/2018  11:22 PM    <DIR>          .\n",
      "09/18/2018  11:22 PM    <DIR>          ..\n",
      "09/18/2018  10:48 PM    <DIR>          .ipynb_checkpoints\n",
      "09/18/2018  11:22 PM    <DIR>          data\n",
      "09/18/2018  11:22 PM             8,105 practice.ipynb\n",
      "               1 File(s)          8,105 bytes\n",
      "               4 Dir(s)  317,062,696,960 bytes free\n"
     ]
    }
   ],
   "source": [
    "ls;"
   ]
  },
  {
   "cell_type": "code",
   "execution_count": 23,
   "metadata": {},
   "outputs": [
    {
     "name": "stdout",
     "output_type": "stream",
     "text": [
      "C:\\Users\\i862873\\Dev\\data\n"
     ]
    }
   ],
   "source": [
    "cd data"
   ]
  },
  {
   "cell_type": "code",
   "execution_count": 24,
   "metadata": {},
   "outputs": [
    {
     "ename": "SyntaxError",
     "evalue": "invalid syntax (<ipython-input-24-760378104556>, line 1)",
     "output_type": "error",
     "traceback": [
      "\u001b[1;36m  File \u001b[1;32m\"<ipython-input-24-760378104556>\"\u001b[1;36m, line \u001b[1;32m1\u001b[0m\n\u001b[1;33m    rm data\u001b[0m\n\u001b[1;37m          ^\u001b[0m\n\u001b[1;31mSyntaxError\u001b[0m\u001b[1;31m:\u001b[0m invalid syntax\n"
     ]
    }
   ],
   "source": [
    "rm data"
   ]
  },
  {
   "cell_type": "code",
   "execution_count": 2,
   "metadata": {},
   "outputs": [
    {
     "ename": "SyntaxError",
     "evalue": "invalid syntax (<ipython-input-2-114451870ef9>, line 1)",
     "output_type": "error",
     "traceback": [
      "\u001b[1;36m  File \u001b[1;32m\"<ipython-input-2-114451870ef9>\"\u001b[1;36m, line \u001b[1;32m1\u001b[0m\n\u001b[1;33m    rm -r data;\u001b[0m\n\u001b[1;37m             ^\u001b[0m\n\u001b[1;31mSyntaxError\u001b[0m\u001b[1;31m:\u001b[0m invalid syntax\n"
     ]
    }
   ],
   "source": [
    "rm -r data;"
   ]
  },
  {
   "cell_type": "code",
   "execution_count": 26,
   "metadata": {},
   "outputs": [
    {
     "name": "stderr",
     "output_type": "stream",
     "text": [
      "The system cannot find the file specified.\n"
     ]
    }
   ],
   "source": [
    "rmdir data"
   ]
  },
  {
   "cell_type": "code",
   "execution_count": 27,
   "metadata": {},
   "outputs": [
    {
     "name": "stdout",
     "output_type": "stream",
     "text": [
      " Volume in drive C is OSDisk\n",
      " Volume Serial Number is 18D0-9E47\n",
      "\n",
      " Directory of C:\\Users\\i862873\\Dev\\data\n",
      "\n",
      "09/18/2018  11:22 PM    <DIR>          .\n",
      "09/18/2018  11:22 PM    <DIR>          ..\n",
      "               0 File(s)              0 bytes\n",
      "               2 Dir(s)  317,062,045,696 bytes free\n"
     ]
    }
   ],
   "source": [
    "ls"
   ]
  },
  {
   "cell_type": "code",
   "execution_count": 28,
   "metadata": {},
   "outputs": [
    {
     "name": "stdout",
     "output_type": "stream",
     "text": [
      "C:\\Users\\i862873\\Dev\n"
     ]
    }
   ],
   "source": [
    "cd .."
   ]
  },
  {
   "cell_type": "code",
   "execution_count": 29,
   "metadata": {},
   "outputs": [],
   "source": [
    "rmdir data"
   ]
  },
  {
   "cell_type": "code",
   "execution_count": 30,
   "metadata": {},
   "outputs": [
    {
     "name": "stdout",
     "output_type": "stream",
     "text": [
      " Volume in drive C is OSDisk\n",
      " Volume Serial Number is 18D0-9E47\n",
      "\n",
      " Directory of C:\\Users\\i862873\\Dev\n",
      "\n",
      "09/18/2018  11:23 PM    <DIR>          .\n",
      "09/18/2018  11:23 PM    <DIR>          ..\n",
      "09/18/2018  10:48 PM    <DIR>          .ipynb_checkpoints\n",
      "09/18/2018  11:22 PM             8,105 practice.ipynb\n",
      "               1 File(s)          8,105 bytes\n",
      "               3 Dir(s)  317,062,045,696 bytes free\n"
     ]
    }
   ],
   "source": [
    "ls"
   ]
  },
  {
   "cell_type": "code",
   "execution_count": 31,
   "metadata": {},
   "outputs": [
    {
     "name": "stdout",
     "output_type": "stream",
     "text": [
      "practice.ipynb\n"
     ]
    }
   ],
   "source": [
    "!ls"
   ]
  },
  {
   "cell_type": "code",
   "execution_count": 32,
   "metadata": {},
   "outputs": [
    {
     "name": "stdout",
     "output_type": "stream",
     "text": [
      "/cygdrive/c/Users/i862873/Dev\n"
     ]
    }
   ],
   "source": [
    "!pwd"
   ]
  },
  {
   "cell_type": "code",
   "execution_count": 33,
   "metadata": {},
   "outputs": [
    {
     "name": "stdout",
     "output_type": "stream",
     "text": [
      "\"shell in python is cooooolll\"\n"
     ]
    }
   ],
   "source": [
    "!echo \"shell in python is cooooolll\""
   ]
  },
  {
   "cell_type": "code",
   "execution_count": 34,
   "metadata": {},
   "outputs": [],
   "source": [
    "message =\"Im loving this\""
   ]
  },
  {
   "cell_type": "code",
   "execution_count": 35,
   "metadata": {},
   "outputs": [
    {
     "name": "stdout",
     "output_type": "stream",
     "text": [
      "message\n"
     ]
    }
   ],
   "source": [
    "!echo message"
   ]
  },
  {
   "cell_type": "code",
   "execution_count": 36,
   "metadata": {},
   "outputs": [
    {
     "name": "stdout",
     "output_type": "stream",
     "text": [
      "Im loving this\n"
     ]
    }
   ],
   "source": [
    "!echo {message}"
   ]
  },
  {
   "cell_type": "code",
   "execution_count": null,
   "metadata": {},
   "outputs": [],
   "source": []
  }
 ],
 "metadata": {
  "kernelspec": {
   "display_name": "Python 3",
   "language": "python",
   "name": "python3"
  },
  "language_info": {
   "codemirror_mode": {
    "name": "ipython",
    "version": 3
   },
   "file_extension": ".py",
   "mimetype": "text/x-python",
   "name": "python",
   "nbconvert_exporter": "python",
   "pygments_lexer": "ipython3",
   "version": "3.6.4"
  }
 },
 "nbformat": 4,
 "nbformat_minor": 2
}
