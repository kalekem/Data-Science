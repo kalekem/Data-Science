{
 "cells": [
  {
   "cell_type": "code",
   "execution_count": 18,
   "metadata": {},
   "outputs": [
    {
     "name": "stdout",
     "output_type": "stream",
     "text": [
      "0    0.25\n",
      "1    0.50\n",
      "2    0.75\n",
      "3    1.00\n",
      "dtype: float64\n",
      "=========================\n",
      "[0.25 0.5  0.75 1.  ]\n",
      "==========================\n",
      "RangeIndex(start=0, stop=4, step=1)\n",
      "1    0.50\n",
      "2    0.75\n",
      "dtype: float64\n",
      "Strings as indices\n",
      "a    20\n",
      "b    30\n",
      "c    40\n",
      "d    50\n",
      "e    60\n",
      "dtype: int64\n",
      "Accessing values in a series\n",
      "b    30\n",
      "c    40\n",
      "d    50\n",
      "dtype: int64\n",
      "Nairobi       276834768\n",
      "Kapenguria       768533\n",
      "Nakuru          1567234\n",
      "Kisumu        158765123\n",
      "Eldoret       167987234\n",
      "dtype: int64\n"
     ]
    }
   ],
   "source": [
    "import numpy as np\n",
    "import pandas as pd\n",
    "\n",
    "#Panda Series object\n",
    "data = pd.Series([0.25, 0.5, 0.75, 1.0])\n",
    "print(data)\n",
    "print(\"=========================\")\n",
    "print(data.values)\n",
    "\n",
    "print(\"==========================\")\n",
    "print(data.index)\n",
    "\n",
    "#Access series array values\n",
    "print(data[1:3])\n",
    "\n",
    "#Using strings as index in pandas Series\n",
    "datastr = pd. Series([20, 30, 40, 50, 60], index = ['a', 'b', 'c', 'd','e'])\n",
    "print(\"Strings as indices\")\n",
    "print(datastr)\n",
    "\n",
    "#Access values of a series\n",
    "print(\"Accessing values in a series\")\n",
    "print(datastr['b': 'd'])\n",
    "\n",
    "#Series as dictionaries\n",
    "population_dict = {'Nairobi': 276834768,\n",
    "             'Kapenguria': 768533,\n",
    "             'Nakuru': 1567234,\n",
    "             'Kisumu': 158765123,\n",
    "             'Eldoret': 167987234}\n",
    "population = pd.Series(population_dict)\n",
    "print(population)\n"
   ]
  },
  {
   "cell_type": "code",
   "execution_count": null,
   "metadata": {},
   "outputs": [],
   "source": []
  }
 ],
 "metadata": {
  "kernelspec": {
   "display_name": "Python 3",
   "language": "python",
   "name": "python3"
  },
  "language_info": {
   "codemirror_mode": {
    "name": "ipython",
    "version": 3
   },
   "file_extension": ".py",
   "mimetype": "text/x-python",
   "name": "python",
   "nbconvert_exporter": "python",
   "pygments_lexer": "ipython3",
   "version": "3.6.4"
  }
 },
 "nbformat": 4,
 "nbformat_minor": 2
}
